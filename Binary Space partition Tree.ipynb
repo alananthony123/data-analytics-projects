{
 "cells": [
  {
   "cell_type": "code",
   "execution_count": 1,
   "id": "51a76da3-8a6a-483b-b39d-c317a0653ab9",
   "metadata": {},
   "outputs": [],
   "source": [
    "%load_ext autoreload\n",
    "%autoreload 2\n",
    "\n",
    "import numpy as np\n",
    "import matplotlib.pyplot as plt\n",
    "import matplotlib.lines as lines\n",
    "import matplotlib.patches as patches\n",
    "from ipywidgets import interact, fixed\n",
    "import random\n",
    "import statistics"
   ]
  },
  {
   "cell_type": "code",
   "execution_count": 2,
   "id": "69c64b3e-5a21-42a8-9e3a-a9f738dcc26f",
   "metadata": {},
   "outputs": [],
   "source": [
    "n_objects = 100\n",
    "\n",
    "# we choose a datalayout in an numpy array\n",
    "# every point is one row, with x coordinate at [n,0] and y coordinate at [n,1]\n",
    "data = np.zeros( (n_objects, 2), dtype=np.float32 ) \n",
    "for i in range( n_objects ):\n",
    "    x = random.uniform( -10, 10 )\n",
    "    y = random.uniform( -10, 10 )\n",
    "    data[ i, : ] = [x,y]"
   ]
  },
  {
   "cell_type": "markdown",
   "id": "900506c9-0534-4902-85e9-10afb08a492b",
   "metadata": {},
   "source": [
    "## Tree Node\n",
    "inner_node (\"inner\", direction, position left_child, right_child ) \n",
    "\n",
    "leaf_node  (\"lead\", data)"
   ]
  },
  {
   "cell_type": "code",
   "execution_count": 3,
   "id": "a0d57ab0-f521-4519-b7e8-e531a3686db4",
   "metadata": {},
   "outputs": [
    {
     "name": "stdout",
     "output_type": "stream",
     "text": [
      "[-9.652392   9.8428135]\n"
     ]
    }
   ],
   "source": [
    "def compute_extend_of_data( data ):\n",
    "    min_x = np.min( data[:,0] )\n",
    "    min_y = np.min( data[:,1] )\n",
    "    max_x = np.max( data[:,0] )\n",
    "    max_y = np.max( data[:,1] )\n",
    "    return np.array( [[min_x, max_x], [min_y, max_y]], dtype=np.float32 )\n",
    "\n",
    "active_region = compute_extend_of_data(data)\n",
    "print( active_region[1] )"
   ]
  },
  {
   "cell_type": "code",
   "execution_count": 4,
   "id": "f7349170-85d4-40e4-8f15-8c9a751125c6",
   "metadata": {},
   "outputs": [],
   "source": [
    "def choose_split_direction( active_region ):\n",
    "    if active_region[0,1]-active_region[0,0] >= active_region[1,1]-active_region[1,0]:\n",
    "        return \"x\"\n",
    "    return \"y\"\n",
    "\n",
    "# because of the data layout (s. above) x is always at index 0, y at index 1\n",
    "def index_of_direction( direction ):\n",
    "    if direction == \"x\":\n",
    "        return 0\n",
    "    return 1\n",
    "\n",
    "def make_split_decision( data, direction ):\n",
    "    index = index_of_direction ( direction )\n",
    "    return np.median( data[:,index] )\n",
    "\n",
    "def perform_split( data, direction, split_value ):\n",
    "    index = index_of_direction ( direction )\n",
    "    left_children  = data[ data[:,index] <= split_value,: ]\n",
    "    right_children = data[ data[:,index] >  split_value,: ]\n",
    "    return left_children, right_children\n",
    "\n",
    "def split_active_regions( active_region, direction, split_value ):\n",
    "    index = index_of_direction ( direction )\n",
    "    left_region  = active_region.copy()    \n",
    "    right_region = active_region.copy()    \n",
    "    left_region [ index, 1 ] = split_value\n",
    "    right_region[ index, 0 ] = split_value\n",
    "    return left_region,right_region\n",
    "\n",
    "def build_tree( data, active_region, max_leaf_size=4, depth = 0 ):\n",
    "    if len(data) <= max_leaf_size:        \n",
    "        # print('  ' * depth, \"leaf\", depth )\n",
    "        return ( \"leaf\", ( data, active_region ) )\n",
    "        \n",
    "    direction   = choose_split_direction( active_region )\n",
    "    split_value = make_split_decision( data, direction )\n",
    "    \n",
    "    left_children, right_children = perform_split( data, direction, split_value )\n",
    "    left_region,right_region      = split_active_regions( active_region, direction, split_value )\n",
    "    \n",
    "    # print('  ' * depth, \"inner\", depth, direction, split_value )\n",
    "    left_child  = build_tree( left_children,  left_region,  depth=depth+1 ) \n",
    "    right_child = build_tree( right_children, right_region, depth=depth+1 ) \n",
    "    return ( \"inner\", ( direction, split_value, left_child, right_child, active_region ) )\n",
    "\n",
    "active_region = compute_extend_of_data( data ) \n",
    "bsp = build_tree( data, active_region )\n",
    "\n",
    "def traverse_tree( node, point ):\n",
    "    node_type,node_data = node\n",
    "    if node_type == \"leaf\":\n",
    "        data, _ = node_data\n",
    "        return node\n",
    "        \n",
    "    direction, split_value, left_child, right_child, _ = node_data\n",
    "    index = index_of_direction ( direction )\n",
    "    \n",
    "    if point[index] <= split_value:\n",
    "        return traverse_tree( left_child, point )\n",
    "    return traverse_tree( right_child, point )"
   ]
  },
  {
   "cell_type": "code",
   "execution_count": 5,
   "id": "f284821c-39bc-40d2-8c08-1c6dd1f1aafc",
   "metadata": {},
   "outputs": [
    {
     "data": {
      "application/vnd.jupyter.widget-view+json": {
       "model_id": "3c09245238c24e62ab8161f4b5f288fe",
       "version_major": 2,
       "version_minor": 0
      },
      "text/plain": [
       "interactive(children=(FloatSlider(value=5.0, description='x', max=10.0, min=-10.0), FloatSlider(value=0.0, des…"
      ]
     },
     "metadata": {},
     "output_type": "display_data"
    },
    {
     "data": {
      "text/plain": [
       "<function __main__.visualize_bsp(x=5.0, y=0.0)>"
      ]
     },
     "execution_count": 5,
     "metadata": {},
     "output_type": "execute_result"
    }
   ],
   "source": [
    "def draw_tree( axis, node, color=\"blue\", depth = 0, draw_leaf=False ):\n",
    "    node_type,node_data = node\n",
    "    if node_type == \"leaf\":\n",
    "        data, active_region = node_data\n",
    "        if draw_leaf:\n",
    "            xy = active_region[:,0]\n",
    "            wh = active_region[:,1]-active_region[:,0]\n",
    "            rect = patches.Rectangle( xy, wh[0], wh[1], color=color, linewidth=0, alpha=0.5 )\n",
    "            axis.add_patch( rect )        \n",
    "    else:\n",
    "        direction, split_value, left_child, right_child, active_region = node_data\n",
    "        index = index_of_direction ( direction )\n",
    "        polygon = np.zeros( (2,2), dtype=np.float32 )\n",
    "        polygon[0,index] = split_value\n",
    "        polygon[1,index] = split_value\n",
    "        polygon[0,1-index] = active_region[1-index,0]\n",
    "        polygon[1,1-index] = active_region[1-index,1]\n",
    "        width = max( 5-depth, 1 )        \n",
    "        line = lines.Line2D( polygon[:,0], polygon[:,1], color=color, linewidth=width )\n",
    "        line.set_dashes( [ 2, 3 ] )\n",
    "        line.set_dash_capstyle( \"round\")\n",
    "        axis.add_line( line )        \n",
    "        draw_tree( axis, left_child,  color=color, depth=depth+1 )\n",
    "        draw_tree( axis, right_child, color=color, depth=depth+1 )\n",
    "\n",
    "def visualize_bsp( x=5.0, y=0.0 ):    \n",
    "    fig,axis = plt.subplots( 1, figsize=(10,10) )\n",
    "    axis.set_xlim( -10, 10 )\n",
    "    axis.set_ylim( -10, 10 )\n",
    "\n",
    "    X = [ x for x,_ in data ]\n",
    "    Y = [ y for _,y in data ]\n",
    "    \n",
    "    node = traverse_tree( bsp, np.array( [ x, y], dtype=np.float32 ) )\n",
    "    draw_tree( axis, node, \"red\", draw_leaf=True )\n",
    "    draw_tree( axis, bsp, \"blue\" )\n",
    "    axis.scatter( X, Y, color=\"blue\")\n",
    "    axis.scatter( [x], [y], color=\"red\")\n",
    "\n",
    "interact(visualize_bsp, x=(-10.0, 10.0), y=(-10.0, 10.0))"
   ]
  },
  {
   "cell_type": "code",
   "execution_count": null,
   "id": "b787d9a0-a450-4663-84c5-f65f2adf5c61",
   "metadata": {},
   "outputs": [],
   "source": []
  }
 ],
 "metadata": {
  "kernelspec": {
   "display_name": "Python 3 (ipykernel)",
   "language": "python",
   "name": "python3"
  },
  "language_info": {
   "codemirror_mode": {
    "name": "ipython",
    "version": 3
   },
   "file_extension": ".py",
   "mimetype": "text/x-python",
   "name": "python",
   "nbconvert_exporter": "python",
   "pygments_lexer": "ipython3",
   "version": "3.12.6"
  }
 },
 "nbformat": 4,
 "nbformat_minor": 5
}
